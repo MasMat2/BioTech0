{
 "cells": [
  {
   "cell_type": "markdown",
   "id": "e69e70ee",
   "metadata": {},
   "source": [
    "# Librerías"
   ]
  },
  {
   "cell_type": "code",
   "execution_count": null,
   "id": "7655ff2b",
   "metadata": {},
   "outputs": [],
   "source": [
    "import pandas as pd\n",
    "import statistics as sts\n",
    "from math import log\n",
    "from numpy import nan"
   ]
  },
  {
   "cell_type": "markdown",
   "id": "3f4d03f9",
   "metadata": {},
   "source": [
    " # Importación de datos"
   ]
  },
  {
   "cell_type": "markdown",
   "id": "10b318c0",
   "metadata": {},
   "source": [
    "`Genes` y `Genes2` almacenan los genes deseados a filtrar en las bases de datos."
   ]
  },
  {
   "cell_type": "code",
   "execution_count": null,
   "id": "5da9504c",
   "metadata": {},
   "outputs": [],
   "source": [
    "Genes = pd.read_csv('genes.csv', header = None)"
   ]
  },
  {
   "cell_type": "code",
   "execution_count": null,
   "id": "20a0966c",
   "metadata": {},
   "outputs": [],
   "source": [
    "Genes2 = pd.read_csv('genes-metabolismo.csv', header = None)"
   ]
  },
  {
   "cell_type": "markdown",
   "id": "a1ec1532",
   "metadata": {},
   "source": [
    "`Data` almacena la base de datos de **GSE147507**"
   ]
  },
  {
   "cell_type": "code",
   "execution_count": null,
   "id": "756b5886",
   "metadata": {},
   "outputs": [],
   "source": [
    "Data = pd.read_excel('GSE147507/GSE147507.xlsx')\n",
    "Data.index = list(Data['Unnamed: 0'])\n",
    "Data.drop(columns = ['Unnamed: 0']+[c for c in list(Data.columns) if c[6] in ['3','4','8']],inplace = True)"
   ]
  },
  {
   "cell_type": "code",
   "execution_count": null,
   "id": "39e0c070",
   "metadata": {},
   "outputs": [],
   "source": [
    "Data.drop(columns = list(Data.loc[:,'Series9_NHBE_IAV_1':'Series9_NHBE_IAV_4'])+list(Data.loc[:,'Series9_NHBE_IAVdNS1_1':'Series9_NHBE_IAVdNS1_4']), \n",
    "          inplace = True )"
   ]
  },
  {
   "cell_type": "markdown",
   "id": "683ee00b",
   "metadata": {},
   "source": [
    "`Data2_corona_intestine_exp1_ndata` almacena la base de datos de **GSE149312_corona_intestine_exp1_ndata**"
   ]
  },
  {
   "cell_type": "code",
   "execution_count": null,
   "id": "eec66b34",
   "metadata": {},
   "outputs": [],
   "source": [
    "Data2_corona_intestine_exp1_ndata = pd.read_csv('GSE149312/GSE149312_corona_intestine_exp1_ndata.csv')"
   ]
  },
  {
   "cell_type": "code",
   "execution_count": null,
   "id": "93a02535",
   "metadata": {},
   "outputs": [],
   "source": [
    "Filanueva0 = list(Data2_corona_intestine_exp1_ndata['Unnamed: 0'].apply(lambda string : string[:string.find('_')]))\n",
    "Data2_corona_intestine_exp1_ndata.index = list(Data2_corona_intestine_exp1_ndata['Unnamed: 0'])\n",
    "Data2_corona_intestine_exp1_ndata.drop(columns = ['Unnamed: 0'],inplace = True)"
   ]
  },
  {
   "cell_type": "markdown",
   "id": "7c4c41c0",
   "metadata": {},
   "source": [
    "`Data2_corona_intestine_exp2_ndata` almacena la base de datos de **GSE149312_corona_intestine_exp2_ndata**"
   ]
  },
  {
   "cell_type": "code",
   "execution_count": null,
   "id": "b51c230b",
   "metadata": {},
   "outputs": [],
   "source": [
    "Data2_corona_intestina_exp2_ndata = pd.read_csv('GSE149312/GSE149312_corona_intestine_exp2_ndata.csv')"
   ]
  },
  {
   "cell_type": "code",
   "execution_count": null,
   "id": "f3bd12f2",
   "metadata": {},
   "outputs": [],
   "source": [
    "Filanueva1 = list(Data2_corona_intestina_exp2_ndata['Unnamed: 0'].apply(lambda string : string[:string.find('_')]))\n",
    "Data2_corona_intestina_exp2_ndata.index = list(Data2_corona_intestina_exp2_ndata['Unnamed: 0'])\n",
    "Data2_corona_intestina_exp2_ndata.drop(columns = ['Unnamed: 0'],inplace = True)"
   ]
  },
  {
   "cell_type": "markdown",
   "id": "f4225154",
   "metadata": {},
   "source": [
    "`Data3` almacena la base de datos **GSE150316_DeseqNormCounts_final**"
   ]
  },
  {
   "cell_type": "code",
   "execution_count": null,
   "id": "c2cb890b",
   "metadata": {},
   "outputs": [],
   "source": [
    "Data3 = pd.read_excel('GSE150316/GSE150316_RPMNormCounts_final.xlsx')"
   ]
  },
  {
   "cell_type": "code",
   "execution_count": null,
   "id": "cc8f2e45",
   "metadata": {},
   "outputs": [],
   "source": [
    "Data3.index = list(Data3['Unnamed: 0'])\n",
    "Data3.drop(columns = ['Unnamed: 0'], inplace = True)"
   ]
  },
  {
   "cell_type": "markdown",
   "id": "b9af6e06",
   "metadata": {},
   "source": [
    "# Análisis de Datos"
   ]
  },
  {
   "cell_type": "markdown",
   "id": "6acf3f43",
   "metadata": {},
   "source": [
    "La siguiente función automatiza el **fold-change**."
   ]
  },
  {
   "cell_type": "code",
   "execution_count": null,
   "id": "4f9ae464",
   "metadata": {},
   "outputs": [],
   "source": [
    "def fold_change (Columna_Mock,Columna_Experimento2):\n",
    "    L = []\n",
    "    for Mock, Experimento in zip (list(Columna_Mock),list(Columna_Experimento2)):\n",
    "        if (Experimento == 0 and Mock < 0) or (Experimento < 0 and Mock == 0):\n",
    "            L.append('-inf')\n",
    "        elif (Experimento == 0 and Mock > 0) or (Experimento > 0 and Mock == 0):\n",
    "            L.append('inf')\n",
    "        elif Experimento == 0 and Mock == 0:\n",
    "            L.append(0)\n",
    "        elif Experimento == nan or Mock == nan:\n",
    "            L.append(nan)\n",
    "        else:\n",
    "            L.append(log(Experimento/Mock,2))\n",
    "    return L"
   ]
  },
  {
   "cell_type": "markdown",
   "id": "5c76f148",
   "metadata": {},
   "source": [
    "## Análisis GSE147507"
   ]
  },
  {
   "cell_type": "markdown",
   "id": "39e98df9",
   "metadata": {},
   "source": [
    "Normalizamos respecto a **GAPDH** cada una de las columnas según el valor correspondiente en dicha columna"
   ]
  },
  {
   "cell_type": "code",
   "execution_count": null,
   "id": "8a65da43",
   "metadata": {},
   "outputs": [],
   "source": [
    "for GAPDH,Columna in zip(list(Data.loc['GAPDH']),list(Data.columns)) :\n",
    "    Data[Columna] = Data[Columna]/GAPDH"
   ]
  },
  {
   "cell_type": "markdown",
   "id": "e6888f12",
   "metadata": {},
   "source": [
    "Total de genes en la base de datos `Data`"
   ]
  },
  {
   "cell_type": "code",
   "execution_count": null,
   "id": "7ca9908c",
   "metadata": {},
   "outputs": [],
   "source": [
    "Total_Gen = len(Data.index)"
   ]
  },
  {
   "cell_type": "markdown",
   "id": "96591787",
   "metadata": {},
   "source": [
    "Dividimos en las siguientes variables todas aquellas muestras correspondientes a sus series."
   ]
  },
  {
   "cell_type": "code",
   "execution_count": null,
   "id": "9b37bfe5",
   "metadata": {},
   "outputs": [],
   "source": [
    "Series1 = Data.loc[:,list(S1 for S1 in list(Data.columns) if S1[6] == '1' and S1[7] == '_')]\n",
    "Series2 = Data.loc[:,list(S2 for S2 in list(Data.columns) if S2[6] == '2' and S2[7] == '_')]\n",
    "Series5 = Data.loc[:,list(S5 for S5 in list(Data.columns) if S5[6] == '5' and S5[7] == '_')]\n",
    "Series6 = Data.loc[:,list(S6 for S6 in list(Data.columns) if S6[6] == '6' and S6[7] == '_')]\n",
    "Series7 = Data.loc[:,list(S7 for S7 in list(Data.columns) if S7[6] == '7' and S7[7] == '_')]\n",
    "Series9 = Data.loc[:,list(S9 for S9 in list(Data.columns) if S9[6] == '9' and S9[7] == '_')]\n",
    "Series15 = Data.loc[:,list(S15 for S15 in list(Data.columns) if S15[6] == '1' and S15[7] == '5')]\n",
    "Series16 = Data.loc[:,list(S16 for S16 in list(Data.columns) if S16[6] == '1' and S16[7] == '6')]"
   ]
  },
  {
   "cell_type": "markdown",
   "id": "e6f644b4",
   "metadata": {},
   "source": [
    "Las siguientes lineas obtienen la media de las muestras de la Serie 1 y experimentos."
   ]
  },
  {
   "cell_type": "code",
   "execution_count": null,
   "id": "c6779b09",
   "metadata": {},
   "outputs": [],
   "source": [
    "Series1['Promedio_Series1_NHBE_Mock'] = list(sts.mean(Series1.iloc[:,0:3].iloc[Fila11]) for Fila11 in range (Total_Gen))\n",
    "Series1['Promedio_Series1_NHBE_SARS_CoV-2'] = list(sts.mean(Series1.iloc[:,3:6].iloc[Fila12]) for Fila12 in range (Total_Gen))"
   ]
  },
  {
   "cell_type": "markdown",
   "id": "96e7e6ec",
   "metadata": {},
   "source": [
    "Obtenemos el fold-change de la Serie1"
   ]
  },
  {
   "cell_type": "code",
   "execution_count": null,
   "id": "6258d92f",
   "metadata": {},
   "outputs": [],
   "source": [
    "Series1['fold-change Series1'] = fold_change(Series1['Promedio_Series1_NHBE_Mock'],Series1['Promedio_Series1_NHBE_SARS_CoV-2'])"
   ]
  },
  {
   "cell_type": "markdown",
   "id": "327e26ce",
   "metadata": {},
   "source": [
    "Las siguientes lineas obtienen la media de las muestras de la Serie 2 y experimentos."
   ]
  },
  {
   "cell_type": "code",
   "execution_count": null,
   "id": "bcb4bb7c",
   "metadata": {},
   "outputs": [],
   "source": [
    "Series2['Promedio_Series2_A549_Mock'] = list(sts.mean(Series2.iloc[:,0:3].iloc[Fila21]) for Fila21 in range (Total_Gen))\n",
    "Series2['Promedio_Series2_A549_SARS_CoV-2'] = list(sts.mean(Series2.iloc[:,3:6].iloc[Fila22]) for Fila22 in range (Total_Gen))"
   ]
  },
  {
   "cell_type": "markdown",
   "id": "7e3b14c7",
   "metadata": {},
   "source": [
    "Obtenemos el fold-change de la Serie2"
   ]
  },
  {
   "cell_type": "code",
   "execution_count": null,
   "id": "faddbcf1",
   "metadata": {},
   "outputs": [],
   "source": [
    "Series2['fold-change Series2'] = fold_change(Series2['Promedio_Series2_A549_Mock'],Series2['Promedio_Series2_A549_SARS_CoV-2'])"
   ]
  },
  {
   "cell_type": "markdown",
   "id": "09c93b0e",
   "metadata": {},
   "source": [
    "Las siguientes lineas obtienen la media de las muestras de la Serie 5 y experimentos"
   ]
  },
  {
   "cell_type": "code",
   "execution_count": null,
   "id": "b5af5bf5",
   "metadata": {},
   "outputs": [],
   "source": [
    "Series5['Promedio_Series5_A549_Mock'] = list(sts.mean(Series5.iloc[:,0:3].iloc[Fila51]) for Fila51 in range (Total_Gen))\n",
    "Series5['Promedio_Series5_A549_SARS_CoV-2'] = list(sts.mean(Series5.iloc[:,3:6].iloc[Fila52]) for Fila52 in range (Total_Gen))"
   ]
  },
  {
   "cell_type": "markdown",
   "id": "edf0e4b7",
   "metadata": {},
   "source": [
    "Obtenemos el fold-change de la Serie5"
   ]
  },
  {
   "cell_type": "code",
   "execution_count": null,
   "id": "b5557b99",
   "metadata": {},
   "outputs": [],
   "source": [
    "Series5['fold-change Series5'] = fold_change(Series5['Promedio_Series5_A549_Mock'],Series5['Promedio_Series5_A549_SARS_CoV-2'])"
   ]
  },
  {
   "cell_type": "markdown",
   "id": "da804985",
   "metadata": {},
   "source": [
    "Las siguientes lineas obtienen la media de las muestras de la Serie 6 y experimentos"
   ]
  },
  {
   "cell_type": "code",
   "execution_count": null,
   "id": "d075e6d9",
   "metadata": {},
   "outputs": [],
   "source": [
    "Series6['Promedio_Series6_ACE2_Mock'] = list(sts.mean(Series6.iloc[:,0:3].iloc[Fila61]) for Fila61 in range (Total_Gen))\n",
    "Series6['Promedio_Series6_ACE2_SARS_CoV-2'] = list(sts.mean(Series6.iloc[:,3:6].iloc[Fila62]) for Fila62 in range (Total_Gen))"
   ]
  },
  {
   "cell_type": "markdown",
   "id": "6b9a671a",
   "metadata": {},
   "source": [
    "Obtenemos el fold-change de la Serie6"
   ]
  },
  {
   "cell_type": "code",
   "execution_count": null,
   "id": "53edab0a",
   "metadata": {},
   "outputs": [],
   "source": [
    "Series6['fold-change Series6'] = fold_change(Series6['Promedio_Series6_ACE2_Mock'],Series6['Promedio_Series6_ACE2_SARS_CoV-2'])"
   ]
  },
  {
   "cell_type": "markdown",
   "id": "e5ee688f",
   "metadata": {},
   "source": [
    "Las siguientes lineas obtienen la media de las muestras de la Serie 7 y experimentos"
   ]
  },
  {
   "cell_type": "code",
   "execution_count": null,
   "id": "52b01d81",
   "metadata": {},
   "outputs": [],
   "source": [
    "Series7['Promedio_Series7_Calu3_Mock'] = list(sts.mean(Series7.iloc[:,0:3].iloc[Fila71]) for Fila71 in range (Total_Gen))\n",
    "Series7['Promedio_Series7_Calu3_SARS-CoV-2'] = list(sts.mean(Series7.iloc[:,3:6].iloc[Fila72]) for Fila72 in range (Total_Gen))"
   ]
  },
  {
   "cell_type": "markdown",
   "id": "b66daeb0",
   "metadata": {},
   "source": [
    "Obtenemos el fold-change de la Serie 7"
   ]
  },
  {
   "cell_type": "code",
   "execution_count": null,
   "id": "6ee09c26",
   "metadata": {},
   "outputs": [],
   "source": [
    "Series7['fold-change Series7'] = fold_change(Series7['Promedio_Series7_Calu3_Mock'],Series7['Promedio_Series7_Calu3_SARS-CoV-2'])"
   ]
  },
  {
   "cell_type": "markdown",
   "id": "ef6a88b0",
   "metadata": {},
   "source": [
    "Las siguientes lineas obtienen la media de las muestras de la Serie 9 y experimentos"
   ]
  },
  {
   "cell_type": "code",
   "execution_count": null,
   "id": "e32c3a96",
   "metadata": {},
   "outputs": [],
   "source": [
    "Series9['Promedio_Series9_NHBE_Mock'] = list(sts.mean(Series9.loc[:,'Series9_NHBE_Mock_1':'Series9_NHBE_Mock_4'].iloc[Fila91]) for Fila91 in range (Total_Gen))\n",
    "Series9['Promedio_Series9_NHBE_IFNB_4h'] = list(sts.mean(Series9.loc[:,['Series9_NHBE_IFNB_4h_1','Series9_NHBE_IFNB_4h_2']].iloc[Fila94]) for Fila94 in range (Total_Gen))\n",
    "Series9['Promedio_Series9_NHBE_IFNB_6h'] = list(sts.mean(Series9.loc[:,['Series9_NHBE_IFNB_6h_1','Series9_NHBE_IFNB_6h_2']].iloc[Fila95]) for Fila95 in range (Total_Gen))\n",
    "Series9['Promedio_Series9_NHBE_IFNB_12h'] = list(sts.mean(Series9.loc[:,['Series9_NHBE_IFNB_12h_1','Series9_NHBE_IFNB_12h_2']].iloc[Fila96])for Fila96 in range (Total_Gen))"
   ]
  },
  {
   "cell_type": "markdown",
   "id": "0fe3e490",
   "metadata": {},
   "source": [
    "Obtenemos el fold-change de la Serie 9 para **NHBE_IFNB_4h, NHBE_IFNB_6h, NHBE_IFNB_12h**."
   ]
  },
  {
   "cell_type": "code",
   "execution_count": null,
   "id": "58aeef38",
   "metadata": {},
   "outputs": [],
   "source": [
    "Series9['fold-change Series9 NHBE_IFNB_4h'] = fold_change(Series9['Promedio_Series9_NHBE_Mock'],Series9['Promedio_Series9_NHBE_IFNB_4h'])\n",
    "Series9['fold-change Series9 NHBE_IFNB_6h'] = fold_change(Series9['Promedio_Series9_NHBE_Mock'],Series9['Promedio_Series9_NHBE_IFNB_6h'])\n",
    "Series9['fold-change Series9 NHBE_IFNB_12h'] = fold_change(Series9['Promedio_Series9_NHBE_Mock'],Series9['Promedio_Series9_NHBE_IFNB_12h'])"
   ]
  },
  {
   "cell_type": "markdown",
   "id": "75f3d179",
   "metadata": {},
   "source": [
    "Las siguientes lineas obtienen la media de las muestras de la Serie 15 y experimentos.\n",
    "\n",
    "**NOTA** : El Mock en la Series15 es HealthyLungBiopsy"
   ]
  },
  {
   "cell_type": "code",
   "execution_count": null,
   "id": "435cd2ce",
   "metadata": {},
   "outputs": [],
   "source": [
    "Series15['Promedio_Series15_HealthyLungBiopsy'] = list(sts.mean(Series15.iloc[:,[0,1]].iloc[Fila151]) for Fila151 in range (Total_Gen))\n",
    "Series15['Promedio_Series15_COVID19Lung'] = list(sts.mean(Series15.iloc[:,[2,3]].iloc[Fila152]) for Fila152 in range (Total_Gen))"
   ]
  },
  {
   "cell_type": "markdown",
   "id": "a852346e",
   "metadata": {},
   "source": [
    "Obtenemos el fold-change de la Serie 15"
   ]
  },
  {
   "cell_type": "code",
   "execution_count": null,
   "id": "cc34116f",
   "metadata": {},
   "outputs": [],
   "source": [
    "Series15['fold-change Series15'] = fold_change(Series15['Promedio_Series15_HealthyLungBiopsy'],Series15['Promedio_Series15_COVID19Lung'])"
   ]
  },
  {
   "cell_type": "markdown",
   "id": "e8fc24a7",
   "metadata": {},
   "source": [
    "Las siguientes lineas obtienen la media de las muestras de la Serie 16 y experimentos"
   ]
  },
  {
   "cell_type": "code",
   "execution_count": null,
   "id": "0191d8a6",
   "metadata": {},
   "outputs": [],
   "source": [
    "Series16['Promedio_Series16_A549-ACE2_Mock'] = list(sts.mean(Series16.iloc[:,[0,1,2]].iloc[Fila161]) for Fila161 in range (Total_Gen))\n",
    "Series16['Promedio_Series16_A549-ACE2_SARS-CoV-2'] = list(sts.mean(Series16.iloc[:,[3,4,5]].iloc[Fila162]) for Fila162 in range (Total_Gen))\n",
    "Series16['Promedio_Series16_A549-ACE2_SARS-CoV-2_Rux'] = list(sts.mean(Series16.iloc[:,[6,7,8]].iloc[Fila163]) for Fila163 in range (Total_Gen))"
   ]
  },
  {
   "cell_type": "markdown",
   "id": "165e441f",
   "metadata": {},
   "source": [
    "Obtenemos el fold-change de la Serie 16"
   ]
  },
  {
   "cell_type": "code",
   "execution_count": null,
   "id": "237a1df9",
   "metadata": {},
   "outputs": [],
   "source": [
    "Series16['fold-change Series16 A549-ACE2_SARS-CoV-2'] = fold_change(Series16['Promedio_Series16_A549-ACE2_Mock'],Series16['Promedio_Series16_A549-ACE2_SARS-CoV-2'])\n",
    "Series16['fold-change Series16 A549-ACE2_SARS-CoV-2_Rux'] = fold_change(Series16['Promedio_Series16_A549-ACE2_Mock'],Series16['Promedio_Series16_A549-ACE2_SARS-CoV-2_Rux'])"
   ]
  },
  {
   "cell_type": "markdown",
   "id": "0c957e4c",
   "metadata": {},
   "source": [
    "Unimos el DataFrame `Data` con cada una de las nuevas columnas en las variables de las respectivas Series."
   ]
  },
  {
   "cell_type": "code",
   "execution_count": null,
   "id": "41733966",
   "metadata": {},
   "outputs": [],
   "source": [
    "Data = pd.concat([Data,Series1.loc[:,['Promedio_Series1_NHBE_Mock','Promedio_Series1_NHBE_SARS_CoV-2','fold-change Series1']]], axis = 1)\n",
    "Data = pd.concat([Data,Series2.loc[:,['Promedio_Series2_A549_Mock','Promedio_Series2_A549_SARS_CoV-2','fold-change Series2']]], axis = 1)\n",
    "Data = pd.concat([Data,Series5.loc[:,['Promedio_Series5_A549_Mock','Promedio_Series5_A549_SARS_CoV-2','fold-change Series5']]], axis = 1)\n",
    "Data = pd.concat([Data,Series6.loc[:,['Promedio_Series6_ACE2_Mock','Promedio_Series6_ACE2_SARS_CoV-2','fold-change Series6']]], axis = 1)\n",
    "Data = pd.concat([Data,Series7.loc[:,['Promedio_Series7_Calu3_Mock','Promedio_Series7_Calu3_SARS-CoV-2','fold-change Series7']]], axis = 1)\n",
    "Data = pd.concat([Data,Series9.loc[:,'Promedio_Series9_NHBE_Mock':'fold-change Series9 NHBE_IFNB_12h']], axis = 1)\n",
    "Data = pd.concat([Data,Series15.loc[:,'Promedio_Series15_HealthyLungBiopsy':'fold-change Series15']], axis = 1)\n",
    "Data = pd.concat([Data,Series16.loc[:,'Promedio_Series16_A549-ACE2_Mock':'fold-change Series16 A549-ACE2_SARS-CoV-2_Rux']], axis = 1)"
   ]
  },
  {
   "cell_type": "code",
   "execution_count": null,
   "id": "5d765ec5",
   "metadata": {},
   "outputs": [],
   "source": [
    "Data.head()"
   ]
  },
  {
   "cell_type": "markdown",
   "id": "9e600658",
   "metadata": {},
   "source": [
    "En el siguiente DataFrame almacenamos los fold-change."
   ]
  },
  {
   "cell_type": "code",
   "execution_count": null,
   "id": "52ed5c20",
   "metadata": {},
   "outputs": [],
   "source": [
    "fold_change_data = Data.loc[:,list(_ for _ in list(Data.columns) if _.startswith('fold-change'))]"
   ]
  },
  {
   "cell_type": "code",
   "execution_count": null,
   "id": "b5fe4d7c",
   "metadata": {},
   "outputs": [],
   "source": [
    "ALPPL2 = pd.DataFrame({_:[nan] for _ in list(fold_change_data.columns)}, index = ['ALPPL2'])"
   ]
  },
  {
   "cell_type": "code",
   "execution_count": null,
   "id": "b7e55e53",
   "metadata": {},
   "outputs": [],
   "source": [
    "fold_change_data = pd.concat([fold_change_data,ALPPL2], axis = 1)"
   ]
  },
  {
   "cell_type": "markdown",
   "id": "571fe11c",
   "metadata": {},
   "source": [
    "El siguiente código regresa en un **csv** los fold-change de los genes almacenados en el archivo **genes**."
   ]
  },
  {
   "cell_type": "code",
   "execution_count": null,
   "id": "cba51750",
   "metadata": {},
   "outputs": [],
   "source": [
    "fold_change_data.loc[list(Genes.loc[:,0])].to_csv('fold_change_genes_1_GSE147507.csv')"
   ]
  },
  {
   "cell_type": "code",
   "execution_count": null,
   "id": "870c7f68",
   "metadata": {},
   "outputs": [],
   "source": [
    "fold_change_data.loc[list(Genes2.loc[:,0])].to_csv('fold_change_genes_2_GSE147507.csv')"
   ]
  },
  {
   "cell_type": "markdown",
   "id": "02cddc6a",
   "metadata": {},
   "source": [
    "## Análisis GSE149312"
   ]
  },
  {
   "cell_type": "markdown",
   "id": "44a1a558",
   "metadata": {},
   "source": [
    "Tomamos en cuenta primero `GSE149312_corona_intestine_exp1_ndata`"
   ]
  },
  {
   "cell_type": "markdown",
   "id": "e4fca9ce",
   "metadata": {},
   "source": [
    "Normalizamos respecto a **GAPDH** cada una de las columnas según el valor correspondiente en dicha columna"
   ]
  },
  {
   "cell_type": "code",
   "execution_count": null,
   "id": "07384a8c",
   "metadata": {},
   "outputs": [],
   "source": [
    "for GAPDH2,Columna2 in zip(list(Data2_corona_intestine_exp1_ndata.loc['GAPDH__chr12']),list(Data2_corona_intestine_exp1_ndata.columns)) :\n",
    "    Data2_corona_intestine_exp1_ndata[Columna2] = Data2_corona_intestine_exp1_ndata[Columna2]/GAPDH2"
   ]
  },
  {
   "cell_type": "markdown",
   "id": "c9e306fb",
   "metadata": {},
   "source": [
    "Obtenemos la media separado por muestra y control."
   ]
  },
  {
   "cell_type": "code",
   "execution_count": null,
   "id": "e9255722",
   "metadata": {},
   "outputs": [],
   "source": [
    "Control1_Data2_corona_intestine_exp1_ndata = Data2_corona_intestine_exp1_ndata.loc[:,'1_1':'1b60_2'].copy()\n",
    "Control2_Data2_corona_intestine_exp1_ndata = Data2_corona_intestine_exp1_ndata.loc[:,'6_1':'6b60_2'].copy()"
   ]
  },
  {
   "cell_type": "markdown",
   "id": "6a406a44",
   "metadata": {},
   "source": [
    "Los genes en `GSE149312_corona_intestine_exp1_ndata` son"
   ]
  },
  {
   "cell_type": "code",
   "execution_count": null,
   "id": "f5b1520f",
   "metadata": {},
   "outputs": [],
   "source": [
    "Genes_GSE149312 = list(Data2_corona_intestine_exp1_ndata.index)"
   ]
  },
  {
   "cell_type": "markdown",
   "id": "ed7d6165",
   "metadata": {},
   "source": [
    "Obtenemos el promedio del control 1 y los experimentos realizados para dicho control."
   ]
  },
  {
   "cell_type": "code",
   "execution_count": null,
   "id": "71900bad",
   "metadata": {},
   "outputs": [],
   "source": [
    "Control1_Data2_corona_intestine_exp1_ndata['Promedio Control 1'] = list(sts.mean(Control1_Data2_corona_intestine_exp1_ndata.loc[Control11,['1_1','1_2']]) for Control11 in Genes_GSE149312)\n",
    "Control1_Data2_corona_intestine_exp1_ndata['Promedio 1b24'] = list(sts.mean(Control1_Data2_corona_intestine_exp1_ndata.loc[Control12,['1b24_1','1b24_2']]) for Control12 in Genes_GSE149312)\n",
    "Control1_Data2_corona_intestine_exp1_ndata['Promedio 1b60'] = list(sts.mean(Control1_Data2_corona_intestine_exp1_ndata.loc[Control13,['1b60_1','1b60_2']]) for Control13 in Genes_GSE149312)"
   ]
  },
  {
   "cell_type": "markdown",
   "id": "d96490e0",
   "metadata": {},
   "source": [
    "Obtenemos el fold-change para el control 1"
   ]
  },
  {
   "cell_type": "code",
   "execution_count": null,
   "id": "7577e99f",
   "metadata": {},
   "outputs": [],
   "source": [
    "Control1_Data2_corona_intestine_exp1_ndata['fold-change Control1 1b24'] = fold_change(Control1_Data2_corona_intestine_exp1_ndata['Promedio Control 1'],Control1_Data2_corona_intestine_exp1_ndata['Promedio 1b24'])\n",
    "Control1_Data2_corona_intestine_exp1_ndata['fold-change Control1 1b60'] = fold_change(Control1_Data2_corona_intestine_exp1_ndata['Promedio Control 1'],Control1_Data2_corona_intestine_exp1_ndata['Promedio 1b60'])"
   ]
  },
  {
   "cell_type": "markdown",
   "id": "fdbc70ea",
   "metadata": {},
   "source": [
    "Obtenemos el promedio del control 2 y los experimentos realizados para dicho control."
   ]
  },
  {
   "cell_type": "code",
   "execution_count": null,
   "id": "d0572167",
   "metadata": {},
   "outputs": [],
   "source": [
    "Control2_Data2_corona_intestine_exp1_ndata['Promedio Control 2'] = list(sts.mean(Control2_Data2_corona_intestine_exp1_ndata.loc[Control21,['6_1','6_2']]) for Control21 in Genes_GSE149312)\n",
    "Control2_Data2_corona_intestine_exp1_ndata['Promedio 6a24'] = list(sts.mean(Control2_Data2_corona_intestine_exp1_ndata.loc[Control22,['6a24_1','6a24_2']]) for Control22 in Genes_GSE149312)\n",
    "Control2_Data2_corona_intestine_exp1_ndata['Promedio 6a60'] = list(sts.mean(Control2_Data2_corona_intestine_exp1_ndata.loc[Control23,['6a60_1','6a60_2']]) for Control23 in Genes_GSE149312)\n",
    "Control2_Data2_corona_intestine_exp1_ndata['Promedio 6b24'] = list(sts.mean(Control2_Data2_corona_intestine_exp1_ndata.loc[Control24,['6b24_1','6b24_2']]) for Control24 in Genes_GSE149312)\n",
    "Control2_Data2_corona_intestine_exp1_ndata['Promedio 6b60'] = list(sts.mean(Control2_Data2_corona_intestine_exp1_ndata.loc[Control25,['6b60_1','6b60_2']]) for Control25 in Genes_GSE149312)"
   ]
  },
  {
   "cell_type": "markdown",
   "id": "9d461f7b",
   "metadata": {},
   "source": [
    "Obtenemos el fold-change para el control 2"
   ]
  },
  {
   "cell_type": "code",
   "execution_count": null,
   "id": "0f66a425",
   "metadata": {},
   "outputs": [],
   "source": [
    "Control2_Data2_corona_intestine_exp1_ndata['fold-change Control2 6a24'] = fold_change(Control2_Data2_corona_intestine_exp1_ndata['Promedio Control 2'],Control2_Data2_corona_intestine_exp1_ndata['Promedio 6a24'])\n",
    "Control2_Data2_corona_intestine_exp1_ndata['fold-change Control2 6a60'] = fold_change(Control2_Data2_corona_intestine_exp1_ndata['Promedio Control 2'],Control2_Data2_corona_intestine_exp1_ndata['Promedio 6a60'])\n",
    "Control2_Data2_corona_intestine_exp1_ndata['fold-change Control2 6b24'] = fold_change(Control2_Data2_corona_intestine_exp1_ndata['Promedio Control 2'],Control2_Data2_corona_intestine_exp1_ndata['Promedio 6b24'])\n",
    "Control2_Data2_corona_intestine_exp1_ndata['fold-change Control2 6b60'] = fold_change(Control2_Data2_corona_intestine_exp1_ndata['Promedio Control 2'],Control2_Data2_corona_intestine_exp1_ndata['Promedio 6b60'])"
   ]
  },
  {
   "cell_type": "markdown",
   "id": "4f5f8bf4",
   "metadata": {},
   "source": [
    "Unimos las nuevas columnas al DataFrame `Data2_corona_intestine_exp1_ndata`"
   ]
  },
  {
   "cell_type": "code",
   "execution_count": null,
   "id": "aab2c9b7",
   "metadata": {},
   "outputs": [],
   "source": [
    "Data2_corona_intestine_exp1_ndata = pd.concat([Data2_corona_intestine_exp1_ndata,Control1_Data2_corona_intestine_exp1_ndata.loc[:,['Promedio Control 1','Promedio 1b24','Promedio 1b60','fold-change Control1 1b24','fold-change Control1 1b60']]], axis = 1)\n",
    "Data2_corona_intestine_exp1_ndata = pd.concat([Data2_corona_intestine_exp1_ndata,Control2_Data2_corona_intestine_exp1_ndata.loc[:,['Promedio Control 2','Promedio 6a24','Promedio 6a60','Promedio 6b24','Promedio 6b60','fold-change Control2 6a24','fold-change Control2 6a60','fold-change Control2 6b24','fold-change Control2 6b60']]], axis = 1)"
   ]
  },
  {
   "cell_type": "markdown",
   "id": "1445bde7",
   "metadata": {},
   "source": [
    "Tomemos en cuenta `GSE149312_corona_intestine_exp2_ndata`"
   ]
  },
  {
   "cell_type": "markdown",
   "id": "c59f2c21",
   "metadata": {},
   "source": [
    "Normalizamos respecto a **GAPDH** cada una de las columnas según el valor correspondiente en dicha columna"
   ]
  },
  {
   "cell_type": "code",
   "execution_count": null,
   "id": "135f8ef0",
   "metadata": {},
   "outputs": [],
   "source": [
    "for GAPDH3,Columna3 in zip(list(Data2_corona_intestina_exp2_ndata.loc['GAPDH__chr12']),list(Data2_corona_intestina_exp2_ndata.columns)) :\n",
    "    Data2_corona_intestina_exp2_ndata[Columna3] = Data2_corona_intestina_exp2_ndata[Columna3]/GAPDH3"
   ]
  },
  {
   "cell_type": "markdown",
   "id": "2d5501f9",
   "metadata": {},
   "source": [
    "Obtenemos la media separado por muestra y control."
   ]
  },
  {
   "cell_type": "code",
   "execution_count": null,
   "id": "2b315000",
   "metadata": {},
   "outputs": [],
   "source": [
    "Data2_corona_intestina_exp2_ndata['Promedio Control 7'] = list(sts.mean(Data2_corona_intestina_exp2_ndata.loc[Control71,['7_1','7_2']]) for Control71 in list(Data2_corona_intestina_exp2_ndata.index))\n",
    "Data2_corona_intestina_exp2_ndata['Promedio 7a72'] = list(sts.mean(Data2_corona_intestina_exp2_ndata.loc[Control72,['7a72_1','7a72_2']]) for Control72 in list(Data2_corona_intestina_exp2_ndata.index))\n",
    "Data2_corona_intestina_exp2_ndata['Promedio 7b72'] = list(sts.mean(Data2_corona_intestina_exp2_ndata.loc[Control73,['7b72_1','7b72_2']]) for Control73 in list(Data2_corona_intestina_exp2_ndata.index))"
   ]
  },
  {
   "cell_type": "markdown",
   "id": "db669fc2",
   "metadata": {},
   "source": [
    "Obtenemos el fold-change del Control7"
   ]
  },
  {
   "cell_type": "code",
   "execution_count": null,
   "id": "63bef8f4",
   "metadata": {},
   "outputs": [],
   "source": [
    "Data2_corona_intestina_exp2_ndata['fold-change Control7 7a72'] = fold_change(Data2_corona_intestina_exp2_ndata['Promedio Control 7'],Data2_corona_intestina_exp2_ndata['Promedio 7a72'])\n",
    "Data2_corona_intestina_exp2_ndata['fold-change Control7 7b72'] = fold_change(Data2_corona_intestina_exp2_ndata['Promedio Control 7'],Data2_corona_intestina_exp2_ndata['Promedio 7b72'])"
   ]
  },
  {
   "cell_type": "markdown",
   "id": "836cabe6",
   "metadata": {},
   "source": [
    "Modificamos los nombres de las filas"
   ]
  },
  {
   "cell_type": "code",
   "execution_count": null,
   "id": "2e145932",
   "metadata": {},
   "outputs": [],
   "source": [
    "Data2_corona_intestine_exp1_ndata.index = Filanueva0\n",
    "Data2_corona_intestina_exp2_ndata.index = Filanueva1"
   ]
  },
  {
   "cell_type": "code",
   "execution_count": null,
   "id": "849c632d",
   "metadata": {},
   "outputs": [],
   "source": [
    "fold_change_data_2_1 = Data2_corona_intestine_exp1_ndata.loc[:,['fold-change Control1 1b24','fold-change Control1 1b60','fold-change Control2 6a24','fold-change Control2 6a60','fold-change Control2 6b24','fold-change Control2 6b60']]\n",
    "fold_change_data_2_2 = Data2_corona_intestina_exp2_ndata.loc[:,['fold-change Control7 7a72','fold-change Control7 7b72']]"
   ]
  },
  {
   "cell_type": "code",
   "execution_count": null,
   "id": "7e56a46c",
   "metadata": {},
   "outputs": [],
   "source": [
    "Arreglo1 = pd.DataFrame({_:[nan] for _ in list(fold_change_data_2_1.columns)}, index = ['IFITM5', 'IFNA1', 'IFNA2', 'IRF4', 'TRIM17', 'SERPINA5', 'KNG1', 'CSF1R', 'CSF2RA', 'CSF2RB', 'IL17A', 'IL6', 'TLR8', 'STAT4', 'CXCL12', 'IGF2', 'CRP', 'ESR1', 'P2RY6'])\n",
    "Arreglo2 = pd.DataFrame({_:[nan] for _ in list(fold_change_data_2_1.columns)}, index = ['DBH', 'HPD', 'PAH', 'TPH1', 'TPH2', 'AMPD1', 'IBSP', 'THY1', 'TYR'])\n",
    "Arreglo3 = pd.DataFrame({_:[nan] for _ in list(fold_change_data_2_2.columns)}, index = ['IFITM5', 'IFNA1', 'IFNA2', 'IRF4', 'F2', 'GJA1', 'PLG', 'SERPIND1', 'VEGFC', 'COL5A1', 'CSF1R', 'CSF2RA', 'IL17A', 'IL6', 'MSN', 'HLA-DQA2', 'IGF1', 'AGTR1', 'AGTR2', 'MRC1', 'TLR1', 'TLR8', 'TLR9', 'IGF2', 'CRP', 'ESR1', 'P2RY6'])\n",
    "Arreglo4 = pd.DataFrame({_:[nan] for _ in list(fold_change_data_2_2.columns)}, index = ['DBH', 'HPD', 'PAH', 'TPH1', 'TPH2', 'ALPL', 'AMPD1', 'IBSP', 'THY1', 'TYR'])"
   ]
  },
  {
   "cell_type": "code",
   "execution_count": null,
   "id": "fc4a539a",
   "metadata": {},
   "outputs": [],
   "source": [
    "fold_change_data_2_1 = pd.concat([fold_change_data_2_1,Arreglo1])\n",
    "fold_change_data_2_1 = pd.concat([fold_change_data_2_1,Arreglo2])"
   ]
  },
  {
   "cell_type": "code",
   "execution_count": null,
   "id": "31388545",
   "metadata": {},
   "outputs": [],
   "source": [
    "fold_change_data_2_2 = pd.concat([fold_change_data_2_2,Arreglo3])\n",
    "fold_change_data_2_2 = pd.concat([fold_change_data_2_2,Arreglo4])"
   ]
  },
  {
   "cell_type": "code",
   "execution_count": null,
   "id": "03f37fbb",
   "metadata": {},
   "outputs": [],
   "source": [
    "fold_change_data_2_1.loc[list(Genes.loc[:,0])].to_csv('fold_change_genes_1_GSE149312_exp1.csv')\n",
    "fold_change_data_2_1.loc[list(Genes2.loc[:,0])].to_csv('fold_change_genes_2_GSE149312_exp1.csv')\n",
    "fold_change_data_2_2.loc[list(Genes.loc[:,0])].to_csv('fold_change_genes_1_GSE149312_exp2.csv')\n",
    "fold_change_data_2_2.loc[list(Genes2.loc[:,0])].to_csv('fold_change_genes_2_GSE149312_exp2.csv')"
   ]
  },
  {
   "cell_type": "markdown",
   "id": "3ff1a7db",
   "metadata": {},
   "source": [
    "## Análisis GSE150316"
   ]
  },
  {
   "cell_type": "code",
   "execution_count": null,
   "id": "287ac714",
   "metadata": {},
   "outputs": [],
   "source": [
    "for GAPDH4,Columna4 in zip(list(Data3.loc['GAPDH']),list(Data3.columns)) :\n",
    "    Data3[Columna4] = Data3[Columna4]/GAPDH4"
   ]
  },
  {
   "cell_type": "markdown",
   "id": "e1c8dc92",
   "metadata": {},
   "source": [
    "La variable `controles` almacena los controles disponibles en **GSE150316**"
   ]
  },
  {
   "cell_type": "code",
   "execution_count": null,
   "id": "e976e021",
   "metadata": {},
   "outputs": [],
   "source": [
    "controles = Data3.loc[:,'NegControl1':'NegControl5'].copy()"
   ]
  },
  {
   "cell_type": "markdown",
   "id": "606a65b8",
   "metadata": {},
   "source": [
    "La variable `GenData3` almacena los genes en la base de datos **GSE150316**"
   ]
  },
  {
   "cell_type": "code",
   "execution_count": null,
   "id": "eaade77a",
   "metadata": {},
   "outputs": [],
   "source": [
    "GenData3 = list(Data3.index)"
   ]
  },
  {
   "cell_type": "markdown",
   "id": "e1ecfeb3",
   "metadata": {},
   "source": [
    "Obtenemos la media, si es posible, de cada una de las muestras en cada uno de los casos."
   ]
  },
  {
   "cell_type": "code",
   "execution_count": null,
   "id": "cb77ac57",
   "metadata": {},
   "outputs": [],
   "source": [
    "case1 = Data3.loc[:,'case1-lung1':'case1-heart1'].copy()"
   ]
  },
  {
   "cell_type": "code",
   "execution_count": null,
   "id": "efa47afa",
   "metadata": {},
   "outputs": [],
   "source": [
    "case1['Promedio case1 lung'] = list(sts.mean(case1.loc[case1lung,['case1-lung1','case1-lung2','case1-lung3','case1-lung4']]) for case1lung in GenData3)\n",
    "case1['Promedio case1 heart'] = list(case1['case1-heart1'])"
   ]
  },
  {
   "cell_type": "markdown",
   "id": "fcd01cc0",
   "metadata": {},
   "source": [
    "Obtenemos el fold-change para el control 1"
   ]
  },
  {
   "cell_type": "code",
   "execution_count": null,
   "id": "75ae88fa",
   "metadata": {},
   "outputs": [],
   "source": [
    "case1['fold-change control1 case1 lung'] = fold_change(controles['NegControl1'],case1['Promedio case1 lung'])\n",
    "case1['fold-change control1 case1 heart'] = fold_change(controles['NegControl1'],case1['Promedio case1 heart'])"
   ]
  },
  {
   "cell_type": "code",
   "execution_count": null,
   "id": "15c60ad5",
   "metadata": {},
   "outputs": [],
   "source": [
    "case2 = Data3.loc[:,'case2-lung1':'case2-heart1'].copy()"
   ]
  },
  {
   "cell_type": "code",
   "execution_count": null,
   "id": "a00dbae1",
   "metadata": {},
   "outputs": [],
   "source": [
    "case2['Promedio case2 lung'] = list(sts.mean(case2.loc[case2lung,['case2-lung1','case2-lung2','case2-lung3']]) for case2lung in GenData3)\n",
    "case2['Promedio case2 jejunum'] = list(case2['case2-jejunum1'])\n",
    "case2['Promedio case2 heart'] = list(case2['case2-heart1'])"
   ]
  },
  {
   "cell_type": "markdown",
   "id": "2cf2693e",
   "metadata": {},
   "source": [
    "Obtenemos el fold-change para el control 2"
   ]
  },
  {
   "cell_type": "code",
   "execution_count": null,
   "id": "479aa5f9",
   "metadata": {},
   "outputs": [],
   "source": [
    "case2['fold-change control2 case2 lung'] = fold_change(controles['NegControl2'],case2['Promedio case2 lung'])\n",
    "case2['fold-change control2 case2 jejunum'] = fold_change(controles['NegControl2'],case2['Promedio case2 jejunum'])\n",
    "case2['fold-change control2 case2 heart'] = fold_change(controles['NegControl2'],case2['Promedio case2 heart'])"
   ]
  },
  {
   "cell_type": "code",
   "execution_count": null,
   "id": "4d7451ea",
   "metadata": {},
   "outputs": [],
   "source": [
    "case3 = Data3.loc[:,'case3-lung1':'case3-lung2'].copy()"
   ]
  },
  {
   "cell_type": "code",
   "execution_count": null,
   "id": "bac8ee81",
   "metadata": {},
   "outputs": [],
   "source": [
    "case3['Promedio case3 lung'] = list(sts.mean(case3.loc[case3lung,['case3-lung1','case3-lung2']]) for case3lung in GenData3)\n",
    "case3['Promedio case3 heart'] = list(case3['case3-heart1'])"
   ]
  },
  {
   "cell_type": "markdown",
   "id": "09dbfbc3",
   "metadata": {},
   "source": [
    "Obtenemos el fold-change para el control 3"
   ]
  },
  {
   "cell_type": "code",
   "execution_count": null,
   "id": "2f657a75",
   "metadata": {},
   "outputs": [],
   "source": [
    "case3['fold-change control3 case3 lung'] = fold_change(controles['NegControl3'],case3['Promedio case3 lung'])\n",
    "case3['fold-change control3 case3 heart'] = fold_change(controles['NegControl3'],case3['Promedio case3 heart'])"
   ]
  },
  {
   "cell_type": "code",
   "execution_count": null,
   "id": "9fb8677f",
   "metadata": {},
   "outputs": [],
   "source": [
    "case4 = Data3.loc[:,'case4-lung1':'case4-bowel1'].copy()"
   ]
  },
  {
   "cell_type": "code",
   "execution_count": null,
   "id": "9bd63d26",
   "metadata": {},
   "outputs": [],
   "source": [
    "case4['Promedio case4 lung'] = list(sts.mean(case4.loc[case4lung,['case4-lung1','case4-lung2']]) for case4lung in GenData3)\n",
    "case4['Promedio case4 heart'] = list(sts.mean(case4.loc[case4heart,['case4-heart1','case4-heart2']]) for case4heart in GenData3)\n",
    "case4['Promedio case4 liver'] = list(case4['case4-liver1'])\n",
    "case4['Promedio case4 kidney'] = list(case4['case4-kidney1'])\n",
    "case4['Promedio case4 bowel'] = list(case4['case4-bowel1'])"
   ]
  },
  {
   "cell_type": "markdown",
   "id": "fca06e1f",
   "metadata": {},
   "source": [
    "Obtenemos el fold-change para el control 4."
   ]
  },
  {
   "cell_type": "code",
   "execution_count": null,
   "id": "5aa7dbf5",
   "metadata": {},
   "outputs": [],
   "source": [
    "case4['fold-change control4 case4 lung'] = fold_change(controles['NegControl4'],case4['Promedio case4 lung'])\n",
    "case4['fold-change control4 case4 heart'] = fold_change(controles['NegControl4'],case4['Promedio case4 heart'])\n",
    "case4['fold-change control4 case4 liver'] = fold_change(controles['NegControl4'],case4['Promedio case4 liver'])\n",
    "case4['fold-change control4 case4 kidney'] = list(case4['case4-kidney1'])\n",
    "case4['fold-change control4 case4 bowel'] = fold_change(controles['NegControl4'],case4['Promedio case4 bowel'])"
   ]
  },
  {
   "cell_type": "code",
   "execution_count": null,
   "id": "224f945a",
   "metadata": {},
   "outputs": [],
   "source": [
    "case5 = Data3.loc[:,'case5-lung1':'case5-marrow1'].copy()"
   ]
  },
  {
   "cell_type": "code",
   "execution_count": null,
   "id": "07b71326",
   "metadata": {},
   "outputs": [],
   "source": [
    "case5['Promedio case5 lung'] = list(sts.mean(case5.loc[case5lung,['case5-lung1','case5-lung2','case5-lung3','case5-lung4','case5-lung5']]) for case5lung in GenData3)\n",
    "case5['Promedio case5 fat'] = list(case5['case5-fat1'])\n",
    "case5['Promedio case5 skin'] = list(case5['case5-skin1'])\n",
    "case5['Promedio case5 bowel'] = list(case5['case5-bowel1'])\n",
    "case5['Promedio case5 liver'] = list(case5['case5-liver1'])\n",
    "case5['Promedio case5 kidney'] = list(case5['case5-kidney1'])\n",
    "case5['Promedio case5 heart'] = list(case5['case5-heart1'])\n",
    "case5['Promedio case5 marrow'] = list(case5['case5-marrow1'])"
   ]
  },
  {
   "cell_type": "markdown",
   "id": "21658da5",
   "metadata": {},
   "source": [
    "Obtenemos el fold-change para el control 5"
   ]
  },
  {
   "cell_type": "code",
   "execution_count": null,
   "id": "e3bcb6e0",
   "metadata": {},
   "outputs": [],
   "source": [
    "case5['fold-change control5 case5 lung'] = fold_change(controles['NegControl5'],case5['Promedio case5 lung'])\n",
    "case5['fold-change control5 case5 fat'] = fold_change(controles['NegControl5'],case5['Promedio case5 fat'])\n",
    "case5['fold-change control5 case5 skin'] = fold_change(controles['NegControl5'],case5['Promedio case5 skin'])\n",
    "case5['fold-change control5 case5 bowel'] = fold_change(controles['NegControl5'],case5['Promedio case5 bowel'])\n",
    "case5['fold-change control5 case5 liver'] = fold_change(controles['NegControl5'],case5['Promedio case5 liver'])\n",
    "case5['fold-change control5 case5 kidney'] = fold_change(controles['NegControl5'],case5['Promedio case5 kidney'])\n",
    "case5['fold-change control5 case5 heart'] = fold_change(controles['NegControl5'],case5['Promedio case5 heart'])\n",
    "case5['fold-change control5 case5 marrow'] = fold_change(controles['NegControl5'],case5['Promedio case5 marrow'])"
   ]
  },
  {
   "cell_type": "markdown",
   "id": "3bd46486",
   "metadata": {},
   "source": [
    "Anexamos los fold-change calculados a la variable `Data3`"
   ]
  },
  {
   "cell_type": "code",
   "execution_count": null,
   "id": "38dd90f5",
   "metadata": {},
   "outputs": [],
   "source": [
    "Data3 = pd.concat([Data3,case1.loc[:,['fold-change control1 case1 lung','fold-change control1 case1 heart']]], axis = 1)\n",
    "Data3 = pd.concat([Data3,case2.loc[:,['fold-change control2 case2 lung','fold-change control2 case2 jejunum','fold-change control2 case2 heart']]], axis = 1)\n",
    "Data3 = pd.concat([Data3,case3.loc[:,['fold-change control3 case3 lung','fold-change control3 case3 heart']]], axis = 1)\n",
    "Data3 = pd.concat([Data3,case4.loc[:,'fold-change control4 case4 lung':'fold-change control4 case4 bowel']],axis = 1)\n",
    "Data3 = pd.concat([Data3,case5.loc[:,'fold-change control5 case5 lung':'fold-change control5 case5 marrow']], axis = 1)"
   ]
  },
  {
   "cell_type": "code",
   "execution_count": null,
   "id": "5f2d0568",
   "metadata": {},
   "outputs": [],
   "source": [
    "fold_change_data_3 = Data3.loc[:,'fold-change control1 case1 lung':'fold-change control5 case5 marrow']"
   ]
  },
  {
   "cell_type": "code",
   "execution_count": null,
   "id": "632ef627",
   "metadata": {},
   "outputs": [],
   "source": [
    "fold_change_data_3"
   ]
  },
  {
   "cell_type": "code",
   "execution_count": null,
   "id": "45ffdf6c",
   "metadata": {},
   "outputs": [],
   "source": [
    "fold_change_data_3.loc[list(Genes.loc[:,0])].to_csv('fold_change_genes_1_GSE150316.csv')\n",
    "fold_change_data_3.loc[list(Genes2.loc[:,0])].to_csv('fold_change_genes_2_GSE150316.csv')"
   ]
  }
 ],
 "metadata": {
  "kernelspec": {
   "display_name": "Python 3 (ipykernel)",
   "language": "python",
   "name": "python3"
  },
  "language_info": {
   "codemirror_mode": {
    "name": "ipython",
    "version": 3
   },
   "file_extension": ".py",
   "mimetype": "text/x-python",
   "name": "python",
   "nbconvert_exporter": "python",
   "pygments_lexer": "ipython3",
   "version": "3.8.8"
  }
 },
 "nbformat": 4,
 "nbformat_minor": 5
}
